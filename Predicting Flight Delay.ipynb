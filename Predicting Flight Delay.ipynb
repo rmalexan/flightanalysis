{
 "cells": [
  {
   "cell_type": "markdown",
   "metadata": {},
   "source": [
    "# Predicting Flight Delay using Random Forest Classifier\n",
    "\n",
    "In this project I worked with a group as part of Correlation 1's Data Science for All Women's Summit (Oct. 2019) to develop a flight delay prediction model. We were given a cleaned data set of flight information and asked to come up with a question to investigate. We chose to develop a model, eventually using a Random Forest Classifier, to predict if a flight would be delayed based on a bunch of input features. It turns out that:\n",
    "\n",
    "1. The model predicts with 60% recall the chance of a flight being delayed\n",
    "2. Time of the day (morning, afternoon, evening) and the length of the flight most correlate with if a flight will eb delayed.\n",
    "3. Feature selection (grouping by time of day, budget vs. non-budget airles) helped improve our recall.\n",
    "\n",
    "Authors: Rachael Alexandroff, Racquel Fygenson, Sofia Pgnataro, Ruxin Shen"
   ]
  },
  {
   "cell_type": "code",
   "execution_count": 3,
   "metadata": {},
   "outputs": [],
   "source": [
    "#packages needed for the code to run\n",
    "import pandas as pd\n",
    "import numpy as np\n",
    "import matplotlib.pyplot as plt\n",
    "import seaborn as sns\n",
    "sns.set(style=\"white\")\n",
    "sns.set(style=\"whitegrid\", color_codes=True)\n",
    "\n",
    "%matplotlib inline"
   ]
  },
  {
   "cell_type": "code",
   "execution_count": 5,
   "metadata": {},
   "outputs": [],
   "source": [
    "#import the data sets\n",
    "flight_traffic = pd.read_csv(\"flight_traffic.csv\")\n",
    "airlines = pd.read_csv(\"airlines.csv\")\n",
    "airports = pd.read_csv(\"airports.csv\", encoding=\"latin-1\")"
   ]
  },
  {
   "cell_type": "code",
   "execution_count": 6,
   "metadata": {},
   "outputs": [],
   "source": [
    "## Feature engineering to produce day of the week and month from given data\n",
    "flight_traffic['date'] = pd.to_datetime(flight_traffic[['year','month','day']])\n",
    "flight_traffic['hour'] = np.floor(flight_traffic['scheduled_departure']/100).astype(int)\n",
    "flight_traffic['day_of_week'] = flight_traffic['date'].dt.day_name()\n",
    "flight_traffic['month_name'] = flight_traffic['date'].dt.strftime('%B')"
   ]
  },
  {
   "cell_type": "code",
   "execution_count": 7,
   "metadata": {},
   "outputs": [],
   "source": [
    "# Creating variable period of the day ('Night', 'Morning', 'Afternoon', 'Evening')\n",
    "conditions = [\n",
    "   (flight_traffic['hour'] >= 0) & (flight_traffic['hour'] <= 5),\n",
    "   (flight_traffic['hour'] >= 6) & (flight_traffic['hour'] <= 11),\n",
    "   (flight_traffic['hour'] >= 12) & (flight_traffic['hour'] <= 17),\n",
    "   (flight_traffic['hour'] >= 18) & (flight_traffic['hour'] <= 23)\n",
    "    ]\n",
    "choices = ['Night', 'Morning', 'Afternoon', 'Evening']\n",
    "flight_traffic['day_period'] = np.select(conditions, choices, default='Error')"
   ]
  },
  {
   "cell_type": "code",
   "execution_count": 8,
   "metadata": {},
   "outputs": [],
   "source": [
    "# Creating variable period of the year ('Fall', 'Winter', 'Spring', 'Summer')\n",
    "conditions = [\n",
    "   ((flight_traffic['month']==12) & (flight_traffic['day']>20)) | ((flight_traffic['month'] >= 1) & (flight_traffic['month'] <= 2)) | ((flight_traffic['month']==3) & (flight_traffic['day']<=20)),\n",
    "   ((flight_traffic['month']==3) & (flight_traffic['day']>20)) | ((flight_traffic['month'] >= 4) & (flight_traffic['month'] <= 5)) | ((flight_traffic['month']==6) & (flight_traffic['day']<=20)),\n",
    "   ((flight_traffic['month']==6) & (flight_traffic['day']>20)) | ((flight_traffic['month'] >= 7) & (flight_traffic['month'] <= 8)) | ((flight_traffic['month']==9) & (flight_traffic['day']<=20)),\n",
    "    ((flight_traffic['month']==9) & (flight_traffic['day']>20)) | ((flight_traffic['month'] >= 10) & (flight_traffic['month'] <= 11)) | ((flight_traffic['month']==12) & (flight_traffic['day']<=20))\n",
    "    ]\n",
    "choices = ['Winter', 'Spring', 'Summer', 'Fall']\n",
    "flight_traffic['season_period'] = np.select(conditions, choices, default='Error')"
   ]
  },
  {
   "cell_type": "code",
   "execution_count": 9,
   "metadata": {},
   "outputs": [],
   "source": [
    "#parameter for budget airlines\n",
    "budget_airlines = ['B6','EV','F9','NK','OO','WN','VX']\n",
    "#flight_traffic['budget'] = flight_traffic['airline_id'].isin(budget_airlines)\n",
    "flight_traffic['budget'] = flight_traffic.apply(lambda x: 1 if x.airline_id in budget_airlines else 0,axis =1)"
   ]
  },
  {
   "cell_type": "code",
   "execution_count": 10,
   "metadata": {},
   "outputs": [],
   "source": [
    "#parameter for region of the USA (both origin and destination airport)\n",
    "climate_region = pd.read_csv(\"climate_region.csv\")\n",
    "flight_traffic = pd.merge(flight_traffic, airports, how='left', left_on='origin_airport', right_on='airport_id')\n",
    "flight_traffic = flight_traffic.rename(columns={\"airport_id\": \"airport_id_origin\", \"airport_name\": \"airport_name_origin\",\n",
    "                              \"city\" : \"city_origin\", \"state\" : \"state_origin\", \"latitude\":\"latitude_origin\",\n",
    "                              \"longitude\":\"longitude_origin\"})\n",
    "\n",
    "flight_traffic = pd.merge(flight_traffic, airports, how='left', left_on='destination_airport', right_on='airport_id')\n",
    "flight_traffic = flight_traffic.rename(columns={\"airport_id\": \"airport_id_destination\", \"airport_name\": \"airport_name_destination\",\n",
    "                              \"city\" : \"city_destination\", \"state\" : \"state_destination\", \"latitude\":\"latitude_destination\",\n",
    "                              \"longitude\":\"longitude_destination\"})\n",
    "\n",
    "flight_traffic = pd.merge(flight_traffic, climate_region, how='left', left_on='state_origin', right_on='state')\n",
    "flight_traffic = flight_traffic.rename(columns={\"state_name\":\"state_name_origin\",\n",
    "                                                \"state\":\"state_id_origin\",\n",
    "                                                \"climate_region\":\"climate_region_origin\"})\n",
    "\n",
    "flight_traffic = pd.merge(flight_traffic, climate_region, how='left', left_on='state_destination', right_on='state')\n",
    "flight_traffic = flight_traffic.rename(columns={\"state_name\":\"state_name_destination\",\n",
    "                                                \"state\":\"state_id_destination\",\n",
    "                                                \"climate_region\":\"climate_region_destination\"})"
   ]
  },
  {
   "cell_type": "code",
   "execution_count": 11,
   "metadata": {},
   "outputs": [],
   "source": [
    "#calculating total delay (including 24 hour delay if cancelled)\n",
    "flight_traffic['total_delay']=flight_traffic.apply(lambda x: 1440 if x.cancelled == 1 else x.weather_delay+x.air_system_delay+x.security_delay+x.aircraft_delay,axis=1)\n",
    "flight_traffic['delay']=flight_traffic.apply(lambda x: 1 if x.total_delay > 0.0 else 0,axis=1)"
   ]
  },
  {
   "cell_type": "code",
   "execution_count": 12,
   "metadata": {},
   "outputs": [
    {
     "data": {
      "text/plain": [
       "Index(['year', 'month', 'day', 'airline_id', 'origin_airport',\n",
       "       'destination_airport', 'scheduled_departure', 'actual_departure',\n",
       "       'taxi_out', 'wheels_off', 'wheels_on', 'taxi_in', 'scheduled_arrival',\n",
       "       'actual_arrival', 'cancelled', 'diverted', 'scheduled_elapsed',\n",
       "       'actual_elapsed', 'distance', 'airline_delay', 'weather_delay',\n",
       "       'air_system_delay', 'security_delay', 'aircraft_delay', 'date', 'hour',\n",
       "       'day_of_week', 'month_name', 'day_period', 'season_period', 'budget',\n",
       "       'airport_id_origin', 'airport_name_origin', 'city_origin',\n",
       "       'state_origin', 'latitude_origin', 'longitude_origin',\n",
       "       'airport_id_destination', 'airport_name_destination',\n",
       "       'city_destination', 'state_destination', 'latitude_destination',\n",
       "       'longitude_destination', 'state_name_origin', 'state_id_origin',\n",
       "       'climate_region_origin', 'state_name_destination',\n",
       "       'state_id_destination', 'climate_region_destination', 'total_delay',\n",
       "       'delay'],\n",
       "      dtype='object')"
      ]
     },
     "execution_count": 12,
     "metadata": {},
     "output_type": "execute_result"
    }
   ],
   "source": [
    "flight_traffic.columns"
   ]
  },
  {
   "cell_type": "code",
   "execution_count": 13,
   "metadata": {},
   "outputs": [
    {
     "data": {
      "text/html": [
       "<div>\n",
       "<style scoped>\n",
       "    .dataframe tbody tr th:only-of-type {\n",
       "        vertical-align: middle;\n",
       "    }\n",
       "\n",
       "    .dataframe tbody tr th {\n",
       "        vertical-align: top;\n",
       "    }\n",
       "\n",
       "    .dataframe thead th {\n",
       "        text-align: right;\n",
       "    }\n",
       "</style>\n",
       "<table border=\"1\" class=\"dataframe\">\n",
       "  <thead>\n",
       "    <tr style=\"text-align: right;\">\n",
       "      <th></th>\n",
       "      <th>year</th>\n",
       "      <th>month</th>\n",
       "      <th>day</th>\n",
       "      <th>airline_id</th>\n",
       "      <th>origin_airport</th>\n",
       "      <th>destination_airport</th>\n",
       "      <th>scheduled_departure</th>\n",
       "      <th>actual_departure</th>\n",
       "      <th>taxi_out</th>\n",
       "      <th>wheels_off</th>\n",
       "      <th>...</th>\n",
       "      <th>latitude_destination</th>\n",
       "      <th>longitude_destination</th>\n",
       "      <th>state_name_origin</th>\n",
       "      <th>state_id_origin</th>\n",
       "      <th>climate_region_origin</th>\n",
       "      <th>state_name_destination</th>\n",
       "      <th>state_id_destination</th>\n",
       "      <th>climate_region_destination</th>\n",
       "      <th>total_delay</th>\n",
       "      <th>delay</th>\n",
       "    </tr>\n",
       "  </thead>\n",
       "  <tbody>\n",
       "    <tr>\n",
       "      <td>0</td>\n",
       "      <td>2017</td>\n",
       "      <td>1</td>\n",
       "      <td>31</td>\n",
       "      <td>AA</td>\n",
       "      <td>CLT</td>\n",
       "      <td>PHX</td>\n",
       "      <td>1619</td>\n",
       "      <td>1615.0</td>\n",
       "      <td>18.0</td>\n",
       "      <td>1633.0</td>\n",
       "      <td>...</td>\n",
       "      <td>33.43417</td>\n",
       "      <td>-112.00806</td>\n",
       "      <td>North Carolina</td>\n",
       "      <td>NC</td>\n",
       "      <td>Southeast</td>\n",
       "      <td>Arizona</td>\n",
       "      <td>AZ</td>\n",
       "      <td>Southwest</td>\n",
       "      <td>NaN</td>\n",
       "      <td>0</td>\n",
       "    </tr>\n",
       "    <tr>\n",
       "      <td>1</td>\n",
       "      <td>2017</td>\n",
       "      <td>1</td>\n",
       "      <td>12</td>\n",
       "      <td>AA</td>\n",
       "      <td>FLL</td>\n",
       "      <td>CLT</td>\n",
       "      <td>1305</td>\n",
       "      <td>1256.0</td>\n",
       "      <td>24.0</td>\n",
       "      <td>1320.0</td>\n",
       "      <td>...</td>\n",
       "      <td>35.21401</td>\n",
       "      <td>-80.94313</td>\n",
       "      <td>Florida</td>\n",
       "      <td>FL</td>\n",
       "      <td>Southeast</td>\n",
       "      <td>North Carolina</td>\n",
       "      <td>NC</td>\n",
       "      <td>Southeast</td>\n",
       "      <td>NaN</td>\n",
       "      <td>0</td>\n",
       "    </tr>\n",
       "    <tr>\n",
       "      <td>2</td>\n",
       "      <td>2017</td>\n",
       "      <td>1</td>\n",
       "      <td>14</td>\n",
       "      <td>AA</td>\n",
       "      <td>FLL</td>\n",
       "      <td>CLT</td>\n",
       "      <td>1305</td>\n",
       "      <td>1314.0</td>\n",
       "      <td>11.0</td>\n",
       "      <td>1325.0</td>\n",
       "      <td>...</td>\n",
       "      <td>35.21401</td>\n",
       "      <td>-80.94313</td>\n",
       "      <td>Florida</td>\n",
       "      <td>FL</td>\n",
       "      <td>Southeast</td>\n",
       "      <td>North Carolina</td>\n",
       "      <td>NC</td>\n",
       "      <td>Southeast</td>\n",
       "      <td>NaN</td>\n",
       "      <td>0</td>\n",
       "    </tr>\n",
       "    <tr>\n",
       "      <td>3</td>\n",
       "      <td>2017</td>\n",
       "      <td>1</td>\n",
       "      <td>18</td>\n",
       "      <td>AA</td>\n",
       "      <td>FLL</td>\n",
       "      <td>CLT</td>\n",
       "      <td>1305</td>\n",
       "      <td>1304.0</td>\n",
       "      <td>19.0</td>\n",
       "      <td>1323.0</td>\n",
       "      <td>...</td>\n",
       "      <td>35.21401</td>\n",
       "      <td>-80.94313</td>\n",
       "      <td>Florida</td>\n",
       "      <td>FL</td>\n",
       "      <td>Southeast</td>\n",
       "      <td>North Carolina</td>\n",
       "      <td>NC</td>\n",
       "      <td>Southeast</td>\n",
       "      <td>NaN</td>\n",
       "      <td>0</td>\n",
       "    </tr>\n",
       "    <tr>\n",
       "      <td>4</td>\n",
       "      <td>2017</td>\n",
       "      <td>1</td>\n",
       "      <td>25</td>\n",
       "      <td>AA</td>\n",
       "      <td>FLL</td>\n",
       "      <td>CLT</td>\n",
       "      <td>1305</td>\n",
       "      <td>1301.0</td>\n",
       "      <td>11.0</td>\n",
       "      <td>1312.0</td>\n",
       "      <td>...</td>\n",
       "      <td>35.21401</td>\n",
       "      <td>-80.94313</td>\n",
       "      <td>Florida</td>\n",
       "      <td>FL</td>\n",
       "      <td>Southeast</td>\n",
       "      <td>North Carolina</td>\n",
       "      <td>NC</td>\n",
       "      <td>Southeast</td>\n",
       "      <td>NaN</td>\n",
       "      <td>0</td>\n",
       "    </tr>\n",
       "    <tr>\n",
       "      <td>5</td>\n",
       "      <td>2017</td>\n",
       "      <td>1</td>\n",
       "      <td>6</td>\n",
       "      <td>AA</td>\n",
       "      <td>RSW</td>\n",
       "      <td>CLT</td>\n",
       "      <td>1315</td>\n",
       "      <td>1306.0</td>\n",
       "      <td>9.0</td>\n",
       "      <td>1315.0</td>\n",
       "      <td>...</td>\n",
       "      <td>35.21401</td>\n",
       "      <td>-80.94313</td>\n",
       "      <td>Florida</td>\n",
       "      <td>FL</td>\n",
       "      <td>Southeast</td>\n",
       "      <td>North Carolina</td>\n",
       "      <td>NC</td>\n",
       "      <td>Southeast</td>\n",
       "      <td>NaN</td>\n",
       "      <td>0</td>\n",
       "    </tr>\n",
       "    <tr>\n",
       "      <td>6</td>\n",
       "      <td>2017</td>\n",
       "      <td>1</td>\n",
       "      <td>5</td>\n",
       "      <td>AA</td>\n",
       "      <td>CLT</td>\n",
       "      <td>ATL</td>\n",
       "      <td>925</td>\n",
       "      <td>920.0</td>\n",
       "      <td>13.0</td>\n",
       "      <td>933.0</td>\n",
       "      <td>...</td>\n",
       "      <td>33.64044</td>\n",
       "      <td>-84.42694</td>\n",
       "      <td>North Carolina</td>\n",
       "      <td>NC</td>\n",
       "      <td>Southeast</td>\n",
       "      <td>Georgia</td>\n",
       "      <td>GA</td>\n",
       "      <td>Southeast</td>\n",
       "      <td>NaN</td>\n",
       "      <td>0</td>\n",
       "    </tr>\n",
       "    <tr>\n",
       "      <td>7</td>\n",
       "      <td>2017</td>\n",
       "      <td>1</td>\n",
       "      <td>2</td>\n",
       "      <td>AA</td>\n",
       "      <td>PBI</td>\n",
       "      <td>CLT</td>\n",
       "      <td>625</td>\n",
       "      <td>624.0</td>\n",
       "      <td>9.0</td>\n",
       "      <td>633.0</td>\n",
       "      <td>...</td>\n",
       "      <td>35.21401</td>\n",
       "      <td>-80.94313</td>\n",
       "      <td>Florida</td>\n",
       "      <td>FL</td>\n",
       "      <td>Southeast</td>\n",
       "      <td>North Carolina</td>\n",
       "      <td>NC</td>\n",
       "      <td>Southeast</td>\n",
       "      <td>NaN</td>\n",
       "      <td>0</td>\n",
       "    </tr>\n",
       "    <tr>\n",
       "      <td>8</td>\n",
       "      <td>2017</td>\n",
       "      <td>1</td>\n",
       "      <td>12</td>\n",
       "      <td>AA</td>\n",
       "      <td>PIT</td>\n",
       "      <td>PHX</td>\n",
       "      <td>1055</td>\n",
       "      <td>1050.0</td>\n",
       "      <td>28.0</td>\n",
       "      <td>1118.0</td>\n",
       "      <td>...</td>\n",
       "      <td>33.43417</td>\n",
       "      <td>-112.00806</td>\n",
       "      <td>Pennsylvania</td>\n",
       "      <td>PA</td>\n",
       "      <td>Northeast</td>\n",
       "      <td>Arizona</td>\n",
       "      <td>AZ</td>\n",
       "      <td>Southwest</td>\n",
       "      <td>36.0</td>\n",
       "      <td>1</td>\n",
       "    </tr>\n",
       "    <tr>\n",
       "      <td>9</td>\n",
       "      <td>2017</td>\n",
       "      <td>1</td>\n",
       "      <td>16</td>\n",
       "      <td>AA</td>\n",
       "      <td>PIT</td>\n",
       "      <td>PHX</td>\n",
       "      <td>1055</td>\n",
       "      <td>1054.0</td>\n",
       "      <td>15.0</td>\n",
       "      <td>1109.0</td>\n",
       "      <td>...</td>\n",
       "      <td>33.43417</td>\n",
       "      <td>-112.00806</td>\n",
       "      <td>Pennsylvania</td>\n",
       "      <td>PA</td>\n",
       "      <td>Northeast</td>\n",
       "      <td>Arizona</td>\n",
       "      <td>AZ</td>\n",
       "      <td>Southwest</td>\n",
       "      <td>NaN</td>\n",
       "      <td>0</td>\n",
       "    </tr>\n",
       "  </tbody>\n",
       "</table>\n",
       "<p>10 rows × 51 columns</p>\n",
       "</div>"
      ],
      "text/plain": [
       "   year  month  day airline_id origin_airport destination_airport  \\\n",
       "0  2017      1   31         AA            CLT                 PHX   \n",
       "1  2017      1   12         AA            FLL                 CLT   \n",
       "2  2017      1   14         AA            FLL                 CLT   \n",
       "3  2017      1   18         AA            FLL                 CLT   \n",
       "4  2017      1   25         AA            FLL                 CLT   \n",
       "5  2017      1    6         AA            RSW                 CLT   \n",
       "6  2017      1    5         AA            CLT                 ATL   \n",
       "7  2017      1    2         AA            PBI                 CLT   \n",
       "8  2017      1   12         AA            PIT                 PHX   \n",
       "9  2017      1   16         AA            PIT                 PHX   \n",
       "\n",
       "   scheduled_departure  actual_departure  taxi_out  wheels_off  ...  \\\n",
       "0                 1619            1615.0      18.0      1633.0  ...   \n",
       "1                 1305            1256.0      24.0      1320.0  ...   \n",
       "2                 1305            1314.0      11.0      1325.0  ...   \n",
       "3                 1305            1304.0      19.0      1323.0  ...   \n",
       "4                 1305            1301.0      11.0      1312.0  ...   \n",
       "5                 1315            1306.0       9.0      1315.0  ...   \n",
       "6                  925             920.0      13.0       933.0  ...   \n",
       "7                  625             624.0       9.0       633.0  ...   \n",
       "8                 1055            1050.0      28.0      1118.0  ...   \n",
       "9                 1055            1054.0      15.0      1109.0  ...   \n",
       "\n",
       "   latitude_destination  longitude_destination  state_name_origin  \\\n",
       "0              33.43417             -112.00806    North Carolina    \n",
       "1              35.21401              -80.94313           Florida    \n",
       "2              35.21401              -80.94313           Florida    \n",
       "3              35.21401              -80.94313           Florida    \n",
       "4              35.21401              -80.94313           Florida    \n",
       "5              35.21401              -80.94313           Florida    \n",
       "6              33.64044              -84.42694    North Carolina    \n",
       "7              35.21401              -80.94313           Florida    \n",
       "8              33.43417             -112.00806      Pennsylvania    \n",
       "9              33.43417             -112.00806      Pennsylvania    \n",
       "\n",
       "   state_id_origin  climate_region_origin  state_name_destination  \\\n",
       "0               NC              Southeast                Arizona    \n",
       "1               FL              Southeast         North Carolina    \n",
       "2               FL              Southeast         North Carolina    \n",
       "3               FL              Southeast         North Carolina    \n",
       "4               FL              Southeast         North Carolina    \n",
       "5               FL              Southeast         North Carolina    \n",
       "6               NC              Southeast                Georgia    \n",
       "7               FL              Southeast         North Carolina    \n",
       "8               PA              Northeast                Arizona    \n",
       "9               PA              Northeast                Arizona    \n",
       "\n",
       "   state_id_destination  climate_region_destination  total_delay  delay  \n",
       "0                    AZ                   Southwest          NaN      0  \n",
       "1                    NC                   Southeast          NaN      0  \n",
       "2                    NC                   Southeast          NaN      0  \n",
       "3                    NC                   Southeast          NaN      0  \n",
       "4                    NC                   Southeast          NaN      0  \n",
       "5                    NC                   Southeast          NaN      0  \n",
       "6                    GA                   Southeast          NaN      0  \n",
       "7                    NC                   Southeast          NaN      0  \n",
       "8                    AZ                   Southwest         36.0      1  \n",
       "9                    AZ                   Southwest          NaN      0  \n",
       "\n",
       "[10 rows x 51 columns]"
      ]
     },
     "execution_count": 13,
     "metadata": {},
     "output_type": "execute_result"
    }
   ],
   "source": [
    "flight_traffic.head(10)"
   ]
  },
  {
   "cell_type": "markdown",
   "metadata": {},
   "source": [
    "# Predicting Delay\n",
    "Here using logistic regressing and a random forest classifier we attempt to predict if a flight will be delayed (yes or no). We already know from hypothesis testing that these features show meaningful differences in the proportion of flights delayed:\n",
    "1. Budget vs. Non-budget airlines\n",
    "2. Time of the day for the flight: morning (6am-noon), afternoon (noon-6pm), evening (6pm-midnight), night(midnight-6am)\n",
    "3. Season (only Fall is statistically different from the others)\n",
    "4. Day of the week\n",
    "\n",
    "For the modeling I added all features and allowed the algorithm to pick the most relevant ones."
   ]
  },
  {
   "cell_type": "code",
   "execution_count": 14,
   "metadata": {},
   "outputs": [],
   "source": [
    "#importing the packages we will need from scikit-learn\n",
    "from sklearn import preprocessing\n",
    "from sklearn.linear_model import LogisticRegression\n",
    "from sklearn.model_selection import train_test_split\n",
    "from sklearn.ensemble import RandomForestClassifier\n",
    "from sklearn.metrics import confusion_matrix"
   ]
  },
  {
   "cell_type": "code",
   "execution_count": 15,
   "metadata": {},
   "outputs": [],
   "source": [
    "# Picking the features as input for the delay model\n",
    "# There are a lot of categorial features (e.g. month of the year, origin airport) so they get replaced with\n",
    "# indicator variables using pandas \"get_dummies\" function\n",
    "selected_features = flight_traffic[['airline_id', 'origin_airport',\n",
    "       'destination_airport','scheduled_elapsed', 'distance','delay','day_of_week','day_period','month_name',\n",
    "                                    'season_period','budget','climate_region_origin','climate_region_destination']]\n",
    "cat_vars=['airline_id', 'origin_airport','destination_airport','day_of_week','day_period','month_name','season_period','climate_region_origin','climate_region_destination']\n",
    "for var in cat_vars:\n",
    "    cat_list='var'+'_'+var\n",
    "    cat_list = pd.get_dummies(selected_features[var], prefix=var)\n",
    "    selected_features=selected_features.join(cat_list)\n",
    "selected_features.drop(columns=cat_vars, inplace=True)\n",
    "selected_features.dropna(inplace=True)\n",
    "y = selected_features['delay']\n",
    "selected_features.drop(columns=['delay'], inplace=True)"
   ]
  },
  {
   "cell_type": "markdown",
   "metadata": {},
   "source": [
    "## Logistic Regression"
   ]
  },
  {
   "cell_type": "code",
   "execution_count": 19,
   "metadata": {},
   "outputs": [
    {
     "name": "stderr",
     "output_type": "stream",
     "text": [
      "/anaconda3/lib/python3.6/site-packages/sklearn/linear_model/logistic.py:432: FutureWarning: Default solver will be changed to 'lbfgs' in 0.22. Specify a solver to silence this warning.\n",
      "  FutureWarning)\n"
     ]
    },
    {
     "data": {
      "text/plain": [
       "0.6242440973865488"
      ]
     },
     "execution_count": 19,
     "metadata": {},
     "output_type": "execute_result"
    }
   ],
   "source": [
    "# Running logistic regression using a \"balanced\" weight between classes\n",
    "# Have to be careful because only ~20% of flights are delayed so we have unbalanced classes to train on\n",
    "X_train, X_test, y_train, y_test = train_test_split(selected_features, y, test_size=0.33, random_state=0)\n",
    "reg = LogisticRegression(penalty=\"l1\",class_weight=\"balanced\").fit(X_train, y_train)\n",
    "reg.score(X_train,y_train)\n",
    "# This model has a mean accuracy of 62%"
   ]
  },
  {
   "cell_type": "code",
   "execution_count": 20,
   "metadata": {},
   "outputs": [
    {
     "name": "stderr",
     "output_type": "stream",
     "text": [
      "/anaconda3/lib/python3.6/site-packages/sklearn/linear_model/logistic.py:432: FutureWarning: Default solver will be changed to 'lbfgs' in 0.22. Specify a solver to silence this warning.\n",
      "  FutureWarning)\n"
     ]
    },
    {
     "data": {
      "text/plain": [
       "0.8144002734395541"
      ]
     },
     "execution_count": 20,
     "metadata": {},
     "output_type": "execute_result"
    }
   ],
   "source": [
    "# Same thing but here using a 1:2 weighting ratio between classes to help with the unbalanced training set\n",
    "X_train, X_test, y_train, y_test = train_test_split(selected_features, y, test_size=0.33, random_state=0)\n",
    "reg = LogisticRegression(penalty=\"l1\",class_weight={1:2}).fit(X_train, y_train)\n",
    "reg.score(X_train,y_train)\n",
    "# This model has a mean accuracy of 81%"
   ]
  },
  {
   "cell_type": "code",
   "execution_count": 21,
   "metadata": {},
   "outputs": [
    {
     "data": {
      "text/plain": [
       "array([[148201,   7123],\n",
       "       [ 27371,   4637]])"
      ]
     },
     "execution_count": 21,
     "metadata": {},
     "output_type": "execute_result"
    }
   ],
   "source": [
    "y_pred = reg.predict(X_test)\n",
    "confusion_matrix(y_test,y_pred)"
   ]
  },
  {
   "cell_type": "markdown",
   "metadata": {},
   "source": [
    "## Random Forest Classifier\n",
    "Can a better model be found? When in doubt use a random forest classifier. Joking aside, random forest will do a better job handling interactions between variables, weighting different variables."
   ]
  },
  {
   "cell_type": "code",
   "execution_count": 23,
   "metadata": {},
   "outputs": [
    {
     "data": {
      "text/plain": [
       "Index(['day_period_Morning', 'scheduled_elapsed', 'day_period_Evening',\n",
       "       'season_period_Fall', 'distance', 'day_period_Afternoon', 'budget',\n",
       "       'airline_id_DL', 'month_name_November', 'day_of_week_Friday',\n",
       "       'day_period_Night', 'day_of_week_Saturday', 'day_of_week_Thursday',\n",
       "       'day_of_week_Monday', 'day_of_week_Sunday', 'destination_airport_SFO',\n",
       "       'season_period_Summer', 'day_of_week_Tuesday',\n",
       "       'climate_region_destination_Northeast', 'day_of_week_Wednesday'],\n",
       "      dtype='object')"
      ]
     },
     "execution_count": 23,
     "metadata": {},
     "output_type": "execute_result"
    }
   ],
   "source": [
    "# Run the random forest classifier\n",
    "# Can see that the most important features selected are: time of the day, flight time, budget airline\n",
    "clf = RandomForestClassifier(n_estimators=500, max_depth=20,random_state=0,class_weight={1:4})\n",
    "clf.fit(X_train, y_train)  \n",
    "X_train.columns[np.argsort(-clf.feature_importances_)][:20]"
   ]
  },
  {
   "cell_type": "code",
   "execution_count": 26,
   "metadata": {},
   "outputs": [
    {
     "data": {
      "image/png": "[encoded data removed]",
      "text/plain": [
       "<Figure size 432x288 with 1 Axes>"
      ]
     },
     "metadata": {
      "needs_background": "light"
     },
     "output_type": "display_data"
    }
   ],
   "source": [
    "#graphing features in order of importance\n",
    "x = X_train.columns[np.argsort(-clf.feature_importances_)][:20]\n",
    "y = -np.sort(-clf.feature_importances_)[:20]\n",
    "p = sns.barplot(x,y)\n",
    "p.set_title('Feature importances top 20')\n",
    "p.set_xticklabels(labels = x,rotation=90);"
   ]
  },
  {
   "cell_type": "code",
   "execution_count": 27,
   "metadata": {},
   "outputs": [
    {
     "data": {
      "text/plain": [
       "0.7560587619840711"
      ]
     },
     "execution_count": 27,
     "metadata": {},
     "output_type": "execute_result"
    }
   ],
   "source": [
    "#mean correct is 76% but this says nothing about false positives/negatives\n",
    "#also we know are sample is imbalanced\n",
    "y_pred = clf.predict(X_test)\n",
    "cm = confusion_matrix(y_test,y_pred)\n",
    "(cm[0][0]+cm[1][1])/np.sum(cm)"
   ]
  },
  {
   "cell_type": "code",
   "execution_count": 28,
   "metadata": {},
   "outputs": [
    {
     "data": {
      "image/png": "[encoded data removed]",
      "text/plain": [
       "<Figure size 432x288 with 2 Axes>"
      ]
     },
     "metadata": {
      "needs_background": "light"
     },
     "output_type": "display_data"
    }
   ],
   "source": [
    "# confusion matrix. You can see we do a good job predicting not delayed flights correctly but not predicting\n",
    "# delayed flights correctly.\n",
    "ax= plt.subplot()\n",
    "annot_kws = {\"ha\": 'center',\"va\": 'center_baseline'}\n",
    "sns.heatmap(cm, annot=False, ax = ax, annot_kws=annot_kws, fmt='g'); #annot=True to annotate cells\n",
    "\n",
    "# labels, title and ticks\n",
    "ax.set_xlabel('Predicted labels');\n",
    "ax.set_ylabel('True labels'); \n",
    "ax.set_title('Confusion Matrix'); \n",
    "ax.xaxis.set_ticklabels(['Not Delayed', 'Delayed']); \n",
    "ax.yaxis.set_ticklabels(['Not Delayed', 'Delayed']);"
   ]
  },
  {
   "cell_type": "markdown",
   "metadata": {},
   "source": [
    "Would we prefer to correctly predict a delayed flight (recall) or be sure a flight is actually delayed when we say it is (precision)?  I think of it as something like the weather: we would prefer to think its going to rain and then be happier when it doesn't. For that reason the threshold is changed to 55% certainty to classify as not delayed thus putting more of everything in to the \"delayed\" classification (both true delays but also false positives)."
   ]
  },
  {
   "cell_type": "code",
   "execution_count": 29,
   "metadata": {},
   "outputs": [
    {
     "data": {
      "text/plain": [
       "array([[107985,  47339],\n",
       "       [ 12947,  19061]])"
      ]
     },
     "execution_count": 29,
     "metadata": {},
     "output_type": "execute_result"
    }
   ],
   "source": [
    "# as you can see from the confusin matrix this increases our recall but decreases our precision. Thus we do a \n",
    "# good job of classifying delayed flights correctly but you can't be certain if the classifier returns \"delay\"\n",
    "# that a give flight will be delayed. I am ok with this trade off.\n",
    "prob_test = clf.predict_proba(X_test)\n",
    "n = len(prob_test)\n",
    "x = []\n",
    "for i in range(0,n):\n",
    "   if prob_test[i][0] > 0.55:\n",
    "    x.append(0)\n",
    "   else:\n",
    "    x.append(1)\n",
    "y_pred = x\n",
    "cm_test = confusion_matrix(y_test,y_pred)\n",
    "cm_test"
   ]
  },
  {
   "cell_type": "code",
   "execution_count": 30,
   "metadata": {},
   "outputs": [
    {
     "data": {
      "image/png": "[encoded data removed]",
      "text/plain": [
       "<Figure size 432x288 with 2 Axes>"
      ]
     },
     "metadata": {
      "needs_background": "light"
     },
     "output_type": "display_data"
    }
   ],
   "source": [
    "import seaborn as sns\n",
    "import matplotlib.pyplot as plt     \n",
    "\n",
    "ax= plt.subplot()\n",
    "sns.heatmap(cm_test, annot=False, ax = ax, fmt='g'); #annot=True to annotate cells\n",
    "\n",
    "# labels, title and ticks\n",
    "ax.set_xlabel('Predicted labels');\n",
    "ax.set_ylabel('True labels'); \n",
    "ax.set_title('Confusion Matrix'); \n",
    "ax.xaxis.set_ticklabels(['Not Delayed', 'Delayed']); \n",
    "ax.yaxis.set_ticklabels(['Not Delayed', 'Delayed']);"
   ]
  }
 ],
 "metadata": {
  "kernelspec": {
   "display_name": "Python 3",
   "language": "python",
   "name": "python3"
  },
  "language_info": {
   "codemirror_mode": {
    "name": "ipython",
    "version": 3
   },
   "file_extension": ".py",
   "mimetype": "text/x-python",
   "name": "python",
   "nbconvert_exporter": "python",
   "pygments_lexer": "ipython3",
   "version": "3.6.9"
  }
 },
 "nbformat": 4,
 "nbformat_minor": 2
}
